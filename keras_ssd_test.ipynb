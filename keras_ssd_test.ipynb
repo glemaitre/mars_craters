{
 "cells": [
  {
   "cell_type": "code",
   "execution_count": 1,
   "metadata": {
    "collapsed": true,
    "nbpresent": {
     "id": "bddae393-6d5f-4d08-b6c6-bfc1cfe61f15"
    }
   },
   "outputs": [],
   "source": [
    "import os\n",
    "os.environ[\"CUDA_DEVICE_ORDER\"]=\"PCI_BUS_ID\"   # see issue #152\n",
    "os.environ[\"CUDA_VISIBLE_DEVICES\"]=\"1\""
   ]
  },
  {
   "cell_type": "code",
   "execution_count": 1,
   "metadata": {
    "nbpresent": {
     "id": "e52794b8-7041-4ea2-969f-fbac8934b453"
    }
   },
   "outputs": [
    {
     "name": "stderr",
     "output_type": "stream",
     "text": [
      "Using TensorFlow backend.\n"
     ]
    },
    {
     "ename": "ModuleNotFoundError",
     "evalue": "No module named 'keras_ssd7'",
     "output_type": "error",
     "traceback": [
      "\u001b[0;31m---------------------------------------------------------------------------\u001b[0m",
      "\u001b[0;31mModuleNotFoundError\u001b[0m                       Traceback (most recent call last)",
      "\u001b[0;32m<ipython-input-1-5bfa3e8de88b>\u001b[0m in \u001b[0;36m<module>\u001b[0;34m()\u001b[0m\n\u001b[1;32m     10\u001b[0m \u001b[0mget_ipython\u001b[0m\u001b[0;34m(\u001b[0m\u001b[0;34m)\u001b[0m\u001b[0;34m.\u001b[0m\u001b[0mmagic\u001b[0m\u001b[0;34m(\u001b[0m\u001b[0;34m'matplotlib inline'\u001b[0m\u001b[0;34m)\u001b[0m\u001b[0;34m\u001b[0m\u001b[0m\n\u001b[1;32m     11\u001b[0m \u001b[0;34m\u001b[0m\u001b[0m\n\u001b[0;32m---> 12\u001b[0;31m \u001b[0;32mfrom\u001b[0m \u001b[0mkeras_ssd7\u001b[0m \u001b[0;32mimport\u001b[0m \u001b[0mbuild_model\u001b[0m\u001b[0;34m\u001b[0m\u001b[0m\n\u001b[0m\u001b[1;32m     13\u001b[0m \u001b[0;32mfrom\u001b[0m \u001b[0mkeras_ssd300\u001b[0m \u001b[0;32mimport\u001b[0m \u001b[0mssd_300\u001b[0m\u001b[0;34m\u001b[0m\u001b[0m\n\u001b[1;32m     14\u001b[0m \u001b[0;32mfrom\u001b[0m \u001b[0mkeras_ssd_loss\u001b[0m \u001b[0;32mimport\u001b[0m \u001b[0mSSDLoss\u001b[0m\u001b[0;34m\u001b[0m\u001b[0m\n",
      "\u001b[0;31mModuleNotFoundError\u001b[0m: No module named 'keras_ssd7'"
     ]
    }
   ],
   "source": [
    "from keras.optimizers import Adam\n",
    "from keras.callbacks import ModelCheckpoint, EarlyStopping, ReduceLROnPlateau\n",
    "from keras import backend as K\n",
    "from keras.models import load_model\n",
    "from math import ceil\n",
    "import numpy as np\n",
    "from matplotlib import pyplot as plt\n",
    "import pandas as pd\n",
    "\n",
    "%matplotlib inline\n",
    "\n",
    "from keras_ssd7 import build_model\n",
    "from keras_ssd300 import ssd_300\n",
    "from keras_ssd_loss import SSDLoss\n",
    "from ssd_box_encode_decode_utils import SSDBoxEncoder, decode_y, decode_y2\n",
    "from ssd_batch_generator import BatchGenerator"
   ]
  },
  {
   "cell_type": "code",
   "execution_count": 3,
   "metadata": {
    "collapsed": true,
    "nbpresent": {
     "id": "81cae083-1a47-48e4-aa8a-5d306711e0a1"
    }
   },
   "outputs": [],
   "source": [
    "from ssd_keras.keras_ssd7 import build_model\n",
    "from ssd_keras.keras_ssd_loss import SSDLoss\n",
    "from ssd_keras.ssd_box_encode_decode_utils import SSDBoxEncoder, decode_y, decode_y2\n",
    "from ssd_keras.ssd_batch_generator import BatchGenerator"
   ]
  },
  {
   "cell_type": "code",
   "execution_count": null,
   "metadata": {
    "collapsed": true,
    "nbpresent": {
     "id": "589f0e0d-035b-4eb9-a2c0-3d136396f5f3"
    }
   },
   "outputs": [],
   "source": []
  },
  {
   "cell_type": "code",
   "execution_count": 4,
   "metadata": {
    "collapsed": true,
    "nbpresent": {
     "id": "dbd8f78b-227c-476d-b6be-f38814ab3e83"
    }
   },
   "outputs": [],
   "source": [
    "from tensorflow.python.client import device_lib"
   ]
  },
  {
   "cell_type": "code",
   "execution_count": 5,
   "metadata": {
    "nbpresent": {
     "id": "21e3beb2-d6ca-484f-aa03-4d87d9149fd2"
    }
   },
   "outputs": [
    {
     "data": {
      "text/plain": [
       "[name: \"/cpu:0\"\n",
       " device_type: \"CPU\"\n",
       " memory_limit: 268435456\n",
       " locality {\n",
       " }\n",
       " incarnation: 17128412608041213887, name: \"/gpu:0\"\n",
       " device_type: \"GPU\"\n",
       " memory_limit: 5944442880\n",
       " locality {\n",
       "   bus_id: 1\n",
       " }\n",
       " incarnation: 13048351652414937701\n",
       " physical_device_desc: \"device: 0, name: GeForce GTX 980 Ti, pci bus id: 0000:02:00.0\"]"
      ]
     },
     "execution_count": 5,
     "metadata": {},
     "output_type": "execute_result"
    }
   ],
   "source": [
    "device_lib.list_local_devices()"
   ]
  },
  {
   "cell_type": "markdown",
   "metadata": {
    "nbpresent": {
     "id": "f298d6b5-71c6-4579-95d1-a7d8f9944794"
    }
   },
   "source": [
    "### 1. Introduction and building the model\n",
    "\n",
    "The cell below sets a number of parameters that define the model architecture and then calls the function `build_model()` to build the model. Read the comments and the documentation, but here are some further explanations for a few parameters:\n",
    "\n",
    "* Set the height, width, and number of color channels to whatever you want the model to accept as image input. This does not have to be the actual size of your input images! However, if your input images have a different size than you define as the model input here, you must use the `crop`, `resize` and/or `random_crop` features of the batch generator to convert your images to the model input size during training. If your dataset contains images of varying size, like the Pascal VOC datasets for example, use the `random_crop` feature of the batch generator to cope with that (see the documentation).\n",
    "* The number of classes includes the background class, i.e. if you have `n` positive classes in your dataset, set `n_classes = n + 1`. Class ID 0 must always be reserved for the background class, i.e. your positive classes must have positive integers as IDs.\n",
    "* The reason why the list of scaling factors has 5 elements even though there are only 4 predictor layers in this model is that the last scaling factor is used for the second aspect-ratio-1 box of the last predictor layer. See the documentation for details.\n",
    "* Alternatively to passing an explicit list of scaling factors, you could also just define a mimimum and a maximum scale, in which case the other scaling factors would be linearly interpolated. If you pass both min/max scaling factors and an explicit list, the explicit list will be used.\n",
    "* `build_model()` and `SSDBoxEncoder` have two arguments for the anchor box aspect ratios: `aspect_ratios_global` and `aspect_ratios_per_layer`. You can use either of the two. If you use `aspect_ratios_global`, then you just pass a list containing all aspect ratios for which you would like to create anchor boxes. Every aspect ratio you want to include must be listed once and only once. If you use `aspect_ratios_per_layer`, then you pass a list containing lists of aspect ratios for each individual predictor layer. In the example below, the model has four predictor layers, so you would pass a list containing four lists.\n",
    "* If `two_boxes_for_ar1 == True`, then two boxes of different size will be created for aspect ratio 1 for each predictor layer. See the documentation for details.\n",
    "* If `limit_boxes == True`, then the generated anchor boxes will be limited so that they lie entirely within the image boundaries. This feature is called 'clip' in the original Caffe implementation. Even though it may seem counterintuitive, it is recommended **not** to clip the anchor boxes. According to Wei Liu, the model performs slightly better when the anchors are not clipped.\n",
    "* The variances are scaling factors for the target coordinates. Leaving them at 1.0 for each of the four box coordinates means that they have no effect whatsoever. Decreasing them to below 1.0 **upscales** the gradient for the respective target box coordinate.\n",
    "* The `coords` argument lets you choose what coordinate format the model should learn. If you choose the 'centroids' format, the targets will be converted to the (cx, cy, w, h) coordinate format used in the original implementation. If you choose the 'minmax' format, the targets will be converted to the coordinate format (xmin, xmax, ymin, ymax). The model, of course, will learn whatever the targets tell it to.\n",
    "* `normalize_coords` converts all absolute ground truth and anchor box coordinates to relative coordinates, i.e. to coordinates that lie within [0,1] relative to the image height and width. Whether you use absolute or relative coordinates has no effect on the training - the targets end up being the same in both cases. The main reason why the original implementation uses relative coordinates is because it makes coding some box operations more convenient. This defaults to `False`.\n",
    "\n",
    "These paramters might be a bit much at first, but they allow you to configure many things easily.\n",
    "\n",
    "The parameters set below are not only needed to build the model, but are also passed to the `SSDBoxEncoder` constructor in the subsequent cell, which is responsible for matching and encoding ground truth boxes and anchor boxes during training. In order to do that, it needs to know the anchor box specifications. It is for the same reason that `build_model()` does not only return the model itself, but also `predictor_sizes`, a list of the spatial sizes of the convolutional predictor layers - `SSDBoxEncoder` needs this information to know where the anchor boxes must be placed spatially.\n",
    "\n",
    "The original Caffe implementation does pretty much everything inside a model layer: The ground truth boxes are matched and encoded inside [MultiBoxLossLayer](https://github.com/weiliu89/caffe/blob/ssd/src/caffe/layers/multibox_loss_layer.cpp), and box decoding, confidence thresholding and non-maximum suppression is performed in [DetectionOutputLayer](https://github.com/weiliu89/caffe/blob/ssd/src/caffe/layers/detection_output_layer.cpp). In contrast to that, in the current form of this implementation, ground truth box matching and encoding happens as part of the mini batch generation (i.e. outside of the model itself). To be specific, the `generate()` method of `BatchGenerator` calls the `encode_y()` method of `SSDBoxEncoder` to encode the ground truth labels, and then yields the matched and encoded target tensor to be passed to the loss function. Similarly, the model here outputs the raw prediction tensor. The decoding, confidence thresholding, and non-maximum suppression (NMS) is then performed by `decode_y2()`, i.e. also outside the model. It's (almost) the same process as in the original Caffe implmentation, it's just that the code is organized differently here, which likely has performance implications, but I haven't measured it yet. I might look into incorporating all processing steps inside the model itself, but for now it was just easier to take the non-learning-relevant steps outside of Keras/Tensorflow. This is one advantage of Caffe: It's more convenient to write complex custom layers in plain C++ than to grapple with the Keras/Tensorflow API."
   ]
  },
  {
   "cell_type": "markdown",
   "metadata": {
    "nbpresent": {
     "id": "2119d389-95a8-4263-9671-5d26510bcaf5"
    }
   },
   "source": [
    "### Note:\n",
    "\n",
    "The example setup below was used to train SSD7 on two street traffic datasets released by [Udacity](https://github.com/udacity/self-driving-car/tree/master/annotations) with around 20,000 images in total and 5 object classes (car, truck, pedestrian, bicyclist, traffic light), although the vast majority of the objects are cars. The original datasets have a constant image size of 1200x1920 RGB. I consolidated the two datasets, removed a few bad samples (although there are probably many more), and resized the images to 300x480 RGB, i.e. to one sixteenth of the original image size. In case you'd like to train a model on the same dataset, you can find the consolidated and resized dataset I used [here](https://drive.google.com/file/d/0B0WbA4IemlxlT1IzQ0U1S2xHYVU/view?usp=sharing)."
   ]
  },
  {
   "cell_type": "code",
   "execution_count": 6,
   "metadata": {
    "collapsed": true,
    "nbpresent": {
     "id": "a8cc18c6-fd68-4831-8878-d7c98eb5c0b8"
    },
    "scrolled": true
   },
   "outputs": [],
   "source": [
    "### Set up the model\n",
    "\n",
    "# 1: Set some necessary parameters\n",
    "\n",
    "img_height = 224 # Height of the input images\n",
    "img_width = 224 # Width of the input images\n",
    "img_channels = 1 # Number of color channels of the input images\n",
    "n_classes = 2 # Number of classes including the background class\n",
    "\n",
    "min_scale = 0.08 # The scaling factor for the smallest anchor boxe\n",
    "max_scale = 0.96 # The scaling factor for the largest anchor boxes\n",
    "scales = [0.08, 0.16, 0.32, 0.64, 0.96]\n",
    "\n",
    "#min_scale = 0.05 # The scaling factor for the smallest anchor boxes\n",
    "#max_scale = 0.50 # The scaling factor for the largest anchor boxes\n",
    "#scales = None #[0.08, 0.16, 0.32, 0.64, 0.96] # An explicit list of anchor box scaling factors. If this is passed, it will override `min_scale` and `max_scale`.\n",
    "aspect_ratios = [1.0]  #[0.5, 1.0, 2.0] # The list of aspect ratios for the anchor boxes\n",
    "two_boxes_for_ar1 = False # Whether or not you want to generate two anchor boxes for aspect ratio 1\n",
    "limit_boxes = True # Whether or not you want to limit the anchor boxes to lie entirely within the image boundaries\n",
    "variances = [1.0, 1.0, 1.0, 1.0] # The list of variances by which the encoded target coordinates are scaled\n",
    "coords = 'centroids' # Whether the box coordinates to be used 8should be in the 'centroids' or 'minmax' format, see documentation\n",
    "normalize_coords = False # Whether or not the model is supposed to use relative coordinates that are within [0,1]\n",
    "\n",
    "# 2: Build the Keras model (and possibly load some trained weights)\n",
    "\n",
    "K.clear_session() # Clear previous models from memory.\n",
    "# The output `predictor_sizes` is needed below to set up `SSDBoxEncoder`\n",
    "model, predictor_sizes = build_model(image_size=(img_height, img_width, img_channels),\n",
    "#model, predictor_sizes = ssd_300(image_size=(img_height, img_width, img_channels),\n",
    "                                      n_classes=n_classes,\n",
    "                                      min_scale=min_scale,\n",
    "                                      max_scale=max_scale,\n",
    "                                      scales=scales,\n",
    "                                      aspect_ratios_global=aspect_ratios,\n",
    "                                      aspect_ratios_per_layer=None,\n",
    "                                      two_boxes_for_ar1=two_boxes_for_ar1,\n",
    "                                      limit_boxes=limit_boxes,\n",
    "                                      variances=variances,\n",
    "                                      coords=coords,\n",
    "                                      normalize_coords=normalize_coords)\n",
    "#model.load_weights('./ssd7_0_weights.h5')\n",
    "#model = load_model('./ssd7_0.h5')"
   ]
  },
  {
   "cell_type": "markdown",
   "metadata": {
    "nbpresent": {
     "id": "89910ebc-2275-4891-a9d7-5659fcae7c40"
    }
   },
   "source": [
    "### 2. Set up the training\n",
    "\n",
    "The cell below sets up everything necessary to train the model. The only things you have to set are the correct file paths to the images and labels in your dataset, and in case your labels do not come in a CSV file, you might have to switch from the CSV parser to the XML parser or you might have to write a new parser method in the `BatchGenerator` class that can handle whatever the format of your labels is. The README of this project provides an overview of the design of the batch generator class, which should help you in case you need to write a new parser or adapt one of the existing parsers to your needs.\n",
    "\n",
    "For everything in this cell that does not concern loading your data: You don't have to change anything (but you can change everything of course).\n",
    "\n",
    "Set the batch size to whatever value you like (and one that makes the model fit inside your GPU memory), it's not the most important hyperparameter - 32 works well, but so do most other batch sizes.\n",
    "\n",
    "I'm using an Adam optimizer with the standard initial learning rate of 0.001 and a small decay, nothing special.\n",
    "\n",
    "`SSDLoss` is a custom Keras loss function that implements the multi-task log loss for classification and smooth L1 loss for localization. `neg_pos_ratio` and `alpha` are set as in the paper and `n_neg_min` is a rather unimportant optional parameter to make sure that a certain number of negative boxes always enters the loss function even if there are very few or no positive boxes in a batch, which should never happen anyway.\n",
    "\n",
    "The `ssd_box_encoder` object, which, as explained above, knows how to match and encode the ground truth labels into the format that the model needs, is passed to the batch generator, which during training loads the next batch of images and labels, optionally performs data augmentation, and encodes the ground truth labels.\n",
    "\n",
    "There are two parameters in the SSDBoxEncoder that you should note: `pos_iou_threshold` and `neg_iou_threshold`. The former determines the minimum Jaccard overlap between a ground truth box and an anchor box for a match and is set to 0.5, the value stated in the paper. The latter, `neg_iou_threshold`, is not in the paper, but it is useful to improve the learning process. It determines the maximum allowed Jaccard overlap between an anchor box and any ground truth box in order for that anchor box to be considered a negative box. This is useful because you want a clear margin between negative and positive boxes. An anchor box that almost contains an object should not be forced to learn to predict a negative box in such a case. 0.2 is a reasonable value that is used by various other object detection models."
   ]
  },
  {
   "cell_type": "code",
   "execution_count": 7,
   "metadata": {
    "collapsed": true,
    "nbpresent": {
     "id": "db96bb66-7fb1-42f0-b7ec-acf793d8fcd8"
    }
   },
   "outputs": [],
   "source": [
    "### Set up training\n",
    "\n",
    "batch_size = 32\n",
    "\n",
    "# 3: Instantiate an Adam optimizer and the SSD loss function and compile the model\n",
    "\n",
    "adam = Adam(lr=0.001, beta_1=0.9, beta_2=0.999, epsilon=1e-08, decay=5e-05)\n",
    "\n",
    "ssd_loss = SSDLoss(neg_pos_ratio=3, n_neg_min=0, alpha=1.0)\n",
    "\n",
    "model.compile(optimizer=adam, loss=ssd_loss.compute_loss)\n",
    "\n",
    "# 4: Instantiate an encoder that can encode ground truth labels into the format needed by the SSD loss function \n",
    "\n",
    "ssd_box_encoder = SSDBoxEncoder(img_height=img_height,\n",
    "                                img_width=img_width,\n",
    "                                n_classes=n_classes, \n",
    "                                predictor_sizes=predictor_sizes,\n",
    "                                min_scale=min_scale,\n",
    "                                max_scale=max_scale,\n",
    "                                scales=scales,\n",
    "                                aspect_ratios_global=aspect_ratios,\n",
    "                                aspect_ratios_per_layer=None,\n",
    "                                two_boxes_for_ar1=two_boxes_for_ar1,\n",
    "                                limit_boxes=limit_boxes,\n",
    "                                variances=variances,\n",
    "                                pos_iou_threshold=0.5,\n",
    "                                neg_iou_threshold=0.2,\n",
    "                                coords=coords,\n",
    "                                normalize_coords=normalize_coords)"
   ]
  },
  {
   "cell_type": "markdown",
   "metadata": {
    "nbpresent": {
     "id": "8a068a72-fa8e-4418-83bf-12521677d519"
    }
   },
   "source": [
    "Train only on patches with at least one crater:"
   ]
  },
  {
   "cell_type": "code",
   "execution_count": 8,
   "metadata": {
    "collapsed": true,
    "nbpresent": {
     "id": "fe82fdd3-12d3-4512-9f5f-4bd4e9639f6c"
    }
   },
   "outputs": [],
   "source": [
    "labels = pd.read_csv(\"../../../mars_craters-kit/data/labels_train.csv\")"
   ]
  },
  {
   "cell_type": "code",
   "execution_count": 9,
   "metadata": {
    "collapsed": true,
    "nbpresent": {
     "id": "41d9b926-8d43-4a62-b865-1a4599335fa2"
    }
   },
   "outputs": [],
   "source": [
    "patches = np.unique(labels['i'])"
   ]
  },
  {
   "cell_type": "code",
   "execution_count": 10,
   "metadata": {
    "nbpresent": {
     "id": "2ec23b97-4c0c-43da-b27d-8ef9cae6dd6d"
    }
   },
   "outputs": [
    {
     "data": {
      "text/plain": [
       "4947"
      ]
     },
     "execution_count": 10,
     "metadata": {},
     "output_type": "execute_result"
    }
   ],
   "source": [
    "len(patches)"
   ]
  },
  {
   "cell_type": "code",
   "execution_count": 12,
   "metadata": {
    "collapsed": true,
    "nbpresent": {
     "id": "12c71df0-5e93-44fa-b224-c452a7f16c24"
    }
   },
   "outputs": [],
   "source": [
    "# 5: Create the training set batch generator\n",
    "\n",
    "train_dataset = BatchGenerator(images_path=\"../../../mars_craters-kit/data/data_train.npy\",\n",
    "                               range_=patches[:1000].tolist(),\n",
    "                               include_classes='all',\n",
    "                               box_output_format=['class_id', 'xmin', 'xmax', 'ymin', 'ymax']) # This is the format in which the generator is supposed to output the labels. At the moment it **must** be the format set here.\n",
    "\n",
    "train_dataset.parse_csv(labels_path='../../../mars_craters-kit/data/labels_train.csv',\n",
    "                        input_format=['image_name', 'xmin', 'xmax', 'ymin', 'ymax', 'class_id']) # This is the order of the first six columns in the CSV file that contains the labels for your dataset. If your labels are in XML format, maybe the XML parser will be helpful, check the documentation.\n",
    "\n",
    "# Change the online data augmentation settings as you like\n",
    "train_generator = train_dataset.generate(batch_size=batch_size,\n",
    "                                         train=True,\n",
    "                                         ssd_box_encoder=ssd_box_encoder,\n",
    "                                         equalize=False,\n",
    "                                         #brightness=(0.5, 2, 0.5), # Randomly change brightness between 0.5 and 2 with probability 0.5\n",
    "                                         brightness=False,\n",
    "                                         #flip=0.5, # Randomly flip horizontally with probability 0.5\n",
    "                                         flip=False,\n",
    "                                         #translate=((5, 50), (3, 30), 0.5), # Randomly translate by 5-50 pixels horizontally and 3-30 pixels vertically with probability 0.5\n",
    "                                         translate=False,\n",
    "                                         #scale=(0.75, 1.3, 0.5), # Randomly scale between 0.75 and 1.3 with probability 0.5\n",
    "                                         scale=False,\n",
    "                                         random_crop=False,\n",
    "                                         crop=False,\n",
    "                                         resize=False,\n",
    "                                         gray=False,\n",
    "                                         limit_boxes=True,\n",
    "                                         include_thresh=0.4,\n",
    "                                         diagnostics=False)\n",
    "\n",
    "n_train_samples = train_dataset.get_n_samples()"
   ]
  },
  {
   "cell_type": "code",
   "execution_count": 13,
   "metadata": {
    "collapsed": true,
    "nbpresent": {
     "id": "24d5b6bc-fe1d-4b66-aaad-9e7e5a961810"
    }
   },
   "outputs": [],
   "source": [
    "# 6: Create the validation set batch generator (if you want to use a validation dataset)\n",
    "\n",
    "val_dataset = BatchGenerator(images_path=\"../../../mars_craters-kit/data/data_train.npy\",\n",
    "                             range_=patches[1000:1300].tolist(),\n",
    "                             include_classes='all',\n",
    "                             box_output_format=['class_id', 'xmin', 'xmax', 'ymin', 'ymax'])\n",
    "\n",
    "val_dataset.parse_csv(labels_path='../../../mars_craters-kit/data/labels_train.csv',\n",
    "                      input_format=['image_name', 'xmin', 'xmax', 'ymin', 'ymax', 'class_id'])\n",
    "\n",
    "val_generator = val_dataset.generate(batch_size=batch_size,\n",
    "                                     train=True,\n",
    "                                     ssd_box_encoder=ssd_box_encoder,\n",
    "                                     equalize=False,\n",
    "                                     brightness=False,\n",
    "                                     flip=False,\n",
    "                                     translate=False,\n",
    "                                     scale=False,\n",
    "                                     random_crop=False,\n",
    "                                     crop=False,\n",
    "                                     resize=False,\n",
    "                                     gray=False,\n",
    "                                     limit_boxes=True,\n",
    "                                     include_thresh=0.4,\n",
    "                                     diagnostics=False)\n",
    "\n",
    "n_val_samples = val_dataset.get_n_samples()"
   ]
  },
  {
   "cell_type": "code",
   "execution_count": 13,
   "metadata": {
    "collapsed": true,
    "nbpresent": {
     "id": "0e39dd6a-8408-46c7-855f-77bd0a245e23"
    }
   },
   "outputs": [],
   "source": [
    "class BatchGeneratorBuilder(object):\n",
    "    \"\"\"A batch generator builder for generating batches of images on the fly.\n",
    "\n",
    "    This class is a way to build training and\n",
    "    validation generators that yield each time a tuple (X, y) of mini-batches.\n",
    "    The generators are built in a way to fit into keras API of `fit_generator`\n",
    "    (see https://keras.io/models/model/).\n",
    "\n",
    "    The fit function from `Classifier` should then use the instance\n",
    "    to build train and validation generators, using the method\n",
    "    `get_train_valid_generators`\n",
    "\n",
    "    Parameters\n",
    "    ==========\n",
    "\n",
    "    X_array : ArrayContainer of int\n",
    "        vector of image data to train on\n",
    "    y_array : vector of int\n",
    "        vector of object labels corresponding to `X_array`\n",
    "\n",
    "    \"\"\"\n",
    "\n",
    "    def __init__(self, X_array, y_array):\n",
    "        self.X_array = X_array\n",
    "        self.y_array = y_array\n",
    "        self.nb_examples = len(X_array)\n",
    "\n",
    "    def get_train_valid_generators(self, batch_size=256, valid_ratio=0.1):\n",
    "        \"\"\"Build train and valid generators for keras.\n",
    "\n",
    "        This method is used by the user defined `Classifier` to o build train\n",
    "        and valid generators that will be used in keras `fit_generator`.\n",
    "\n",
    "        Parameters\n",
    "        ==========\n",
    "\n",
    "        batch_size : int\n",
    "            size of mini-batches\n",
    "        valid_ratio : float between 0 and 1\n",
    "            ratio of validation data\n",
    "\n",
    "        Returns\n",
    "        =======\n",
    "\n",
    "        a 4-tuple (gen_train, gen_valid, nb_train, nb_valid) where:\n",
    "            - gen_train is a generator function for training data\n",
    "            - gen_valid is a generator function for valid data\n",
    "            - nb_train is the number of training examples\n",
    "            - nb_valid is the number of validation examples\n",
    "        The number of training and validation data are necessary\n",
    "        so that we can use the keras method `fit_generator`.\n",
    "        \"\"\"\n",
    "        nb_valid = int(valid_ratio * self.nb_examples)\n",
    "        nb_train = self.nb_examples - nb_valid\n",
    "        indices = np.arange(self.nb_examples)\n",
    "        train_indices = indices[0:nb_train]\n",
    "        valid_indices = indices[nb_train:]\n",
    "        gen_train = self._get_generator(\n",
    "            indices=train_indices, batch_size=batch_size)\n",
    "        gen_valid = self._get_generator(\n",
    "            indices=valid_indices, batch_size=batch_size)\n",
    "        return gen_train, gen_valid, nb_train, nb_valid\n",
    "    \n",
    "    def _get_generator(self, indices=None, batch_size=256):\n",
    "        if indices is None:\n",
    "            indices = np.arange(self.nb_examples)\n",
    "        # Infinite loop, as required by keras `fit_generator`.\n",
    "        # However, as we provide the number of examples per epoch\n",
    "        # and the user specifies the total number of epochs, it will\n",
    "        # be able to end.\n",
    "        while True:\n",
    "            X = self.X_array[indices]\n",
    "            y = [self.y_array[i] for i in indices]\n",
    "\n",
    "            # converting to float needed?\n",
    "            # X = np.array(X, dtype='float32')\n",
    "\n",
    "            # Yielding mini-batches\n",
    "            for i in range(0, len(X), batch_size):\n",
    "                X_batch = [np.expand_dims(img, -1) for img in X[i:i + batch_size]]\n",
    "                y_batch = y[i:i + batch_size]\n",
    "                \n",
    "                #y_batch = [np.array([(1, cx, cy, 2*r, 2*r) for (cx, cy, r) in y_patch]) for y_patch in y_batch]\n",
    "                y_batch = [np.array([(1, cx -r, cy -r, cx + r, cy +r) for (cy, cx, r) in y_patch]) for y_patch in y_batch]\n",
    "                \n",
    "                y_batch_encoded = ssd_box_encoder.encode_y(y_batch)\n",
    "                \n",
    "                yield np.array(X_batch), y_batch_encoded\n",
    "                "
   ]
  },
  {
   "cell_type": "code",
   "execution_count": 14,
   "metadata": {
    "collapsed": true,
    "nbpresent": {
     "id": "89319085-5187-4bb7-b8ca-10ff4699ba2b"
    }
   },
   "outputs": [],
   "source": [
    "import sys\n",
    "sys.path.append('../../../mars_craters-kit/')"
   ]
  },
  {
   "cell_type": "code",
   "execution_count": 59,
   "metadata": {
    "collapsed": true,
    "nbpresent": {
     "id": "5c0d041c-1154-43e6-bb73-b7488e83bcf2"
    }
   },
   "outputs": [],
   "source": [
    "from problem import get_train_data"
   ]
  },
  {
   "cell_type": "code",
   "execution_count": 60,
   "metadata": {
    "collapsed": true,
    "nbpresent": {
     "id": "0ee9d33a-fced-4b6f-a258-bc562027d707"
    }
   },
   "outputs": [],
   "source": [
    "X, y = get_train_data('../../../mars_craters-kit/')"
   ]
  },
  {
   "cell_type": "code",
   "execution_count": 61,
   "metadata": {
    "nbpresent": {
     "id": "30f7c248-35e9-4d8e-a2ea-94f1c023ec59"
    }
   },
   "outputs": [
    {
     "data": {
      "text/plain": [
       "(10000, 224, 224)"
      ]
     },
     "execution_count": 61,
     "metadata": {},
     "output_type": "execute_result"
    }
   ],
   "source": [
    "X.shape"
   ]
  },
  {
   "cell_type": "code",
   "execution_count": 62,
   "metadata": {
    "collapsed": true,
    "nbpresent": {
     "id": "b3cd8602-dfad-406c-b552-5eb5b9eb79ef"
    }
   },
   "outputs": [],
   "source": [
    "train_dataset = BatchGeneratorBuilder(X[:6666], y[:6666])"
   ]
  },
  {
   "cell_type": "code",
   "execution_count": 63,
   "metadata": {
    "collapsed": true,
    "nbpresent": {
     "id": "dd2e0640-33f9-43b4-bb68-d719bab533bf"
    },
    "scrolled": false
   },
   "outputs": [],
   "source": [
    "train_generator, val_generator, n_train_samples, n_val_samples = train_dataset.get_train_valid_generators(batch_size=batch_size)"
   ]
  },
  {
   "cell_type": "code",
   "execution_count": null,
   "metadata": {
    "collapsed": true,
    "nbpresent": {
     "id": "a5385d3c-7f55-47ec-ab63-2a3f81d833f3"
    }
   },
   "outputs": [],
   "source": []
  },
  {
   "cell_type": "code",
   "execution_count": null,
   "metadata": {
    "collapsed": true,
    "nbpresent": {
     "id": "20f45d04-d641-426d-8dde-29be18a3430b"
    }
   },
   "outputs": [],
   "source": []
  },
  {
   "cell_type": "markdown",
   "metadata": {
    "nbpresent": {
     "id": "0e88f85f-2787-46b3-9ab5-4f856152d688"
    }
   },
   "source": [
    "### 3. Run the training\n",
    "\n",
    "Now that everything is set up, we're ready to start training. Set the number of epochs and the model name, the weights name in `ModelCheckpoint` and the filepaths to wherever you'd like to save the model. There isn't much more to say here, just execute the cell. If you get \"out of memory\" errors during training, reduce the batch size.\n",
    "\n",
    "Training currently only monitors the validation loss, not the mAP."
   ]
  },
  {
   "cell_type": "code",
   "execution_count": 23,
   "metadata": {
    "collapsed": true,
    "nbpresent": {
     "id": "38d97809-448c-4d6a-987d-3852b8f62774"
    }
   },
   "outputs": [],
   "source": [
    "X, y = next(train_generator)"
   ]
  },
  {
   "cell_type": "code",
   "execution_count": null,
   "metadata": {
    "collapsed": true,
    "nbpresent": {
     "id": "468516c1-cf7c-4e03-b3df-6f2f34f4202a"
    }
   },
   "outputs": [],
   "source": [
    "X"
   ]
  },
  {
   "cell_type": "code",
   "execution_count": 24,
   "metadata": {
    "nbpresent": {
     "id": "9d94f8c2-5271-478d-a62d-e38793202bae"
    }
   },
   "outputs": [
    {
     "data": {
      "text/plain": [
       "(32, 224, 224, 1)"
      ]
     },
     "execution_count": 24,
     "metadata": {},
     "output_type": "execute_result"
    }
   ],
   "source": [
    "X.shape"
   ]
  },
  {
   "cell_type": "code",
   "execution_count": 14,
   "metadata": {
    "nbpresent": {
     "id": "35ea4dc1-02e9-4e1d-b8fe-f8e6c7fbb7bf"
    }
   },
   "outputs": [
    {
     "data": {
      "text/plain": [
       "32"
      ]
     },
     "execution_count": 14,
     "metadata": {},
     "output_type": "execute_result"
    }
   ],
   "source": [
    "len(y)"
   ]
  },
  {
   "cell_type": "code",
   "execution_count": 15,
   "metadata": {
    "nbpresent": {
     "id": "952852c2-628e-458f-a044-2cfc3ed04550"
    }
   },
   "outputs": [
    {
     "data": {
      "text/plain": [
       "(32, 1049, 14)"
      ]
     },
     "execution_count": 15,
     "metadata": {},
     "output_type": "execute_result"
    }
   ],
   "source": [
    "y.shape"
   ]
  },
  {
   "cell_type": "code",
   "execution_count": 16,
   "metadata": {
    "nbpresent": {
     "id": "87fa9bc3-bba4-47f5-b0a7-d64879a3732e"
    }
   },
   "outputs": [
    {
     "data": {
      "text/plain": [
       "array([ 1. ,  0. ,  0. ,  0. ,  0. ,  0. ,  4.8,  4.8,  9.6,  9.6,  1. ,\n",
       "        1. ,  1. ,  1. ])"
      ]
     },
     "execution_count": 16,
     "metadata": {},
     "output_type": "execute_result"
    }
   ],
   "source": [
    "y[0][0]"
   ]
  },
  {
   "cell_type": "code",
   "execution_count": 17,
   "metadata": {
    "nbpresent": {
     "id": "3932bdb1-6cf2-4aa2-af83-e4ae763d91ec"
    }
   },
   "outputs": [
    {
     "data": {
      "text/plain": [
       "array([  1. ,   0. ,   0. ,   0. ,   0. ,   0. ,  84. ,   4.8,  11.2,\n",
       "         9.6,   1. ,   1. ,   1. ,   1. ])"
      ]
     },
     "execution_count": 17,
     "metadata": {},
     "output_type": "execute_result"
    }
   ],
   "source": [
    "y[0][10]"
   ]
  },
  {
   "cell_type": "code",
   "execution_count": null,
   "metadata": {
    "collapsed": true,
    "nbpresent": {
     "id": "c7638b7f-d31d-4322-ab1d-ce786daf94cb"
    }
   },
   "outputs": [],
   "source": [
    "np.save('y_good.npy')"
   ]
  },
  {
   "cell_type": "code",
   "execution_count": 13,
   "metadata": {
    "collapsed": true,
    "nbpresent": {
     "id": "468869ad-eace-47fe-b353-2928f9bd0cc9"
    }
   },
   "outputs": [],
   "source": [
    "model.load_weights(\"ssd7_test_weights.h5\")"
   ]
  },
  {
   "cell_type": "code",
   "execution_count": null,
   "metadata": {
    "nbpresent": {
     "id": "ab9ccded-cf45-477c-bf89-0fd845c6b18b"
    },
    "scrolled": false
   },
   "outputs": [
    {
     "name": "stdout",
     "output_type": "stream",
     "text": [
      "Epoch 1/50\n",
      "187/188 [============================>.] - ETA: 0s - loss: 0.0863Epoch 00000: val_loss improved from inf to 0.08954, saving model to ./ssd7_0_weights_epoch00_loss0.0865.h5\n",
      "188/188 [==============================] - 27s - loss: 0.0867 - val_loss: 0.0895\n",
      "Epoch 2/50\n",
      "187/188 [============================>.] - ETA: 0s - loss: 0.0837Epoch 00001: val_loss improved from 0.08954 to 0.08742, saving model to ./ssd7_0_weights_epoch01_loss0.0839.h5\n",
      "188/188 [==============================] - 27s - loss: 0.0841 - val_loss: 0.0874\n",
      "Epoch 3/50\n",
      "187/188 [============================>.] - ETA: 0s - loss: 0.0822Epoch 00002: val_loss improved from 0.08742 to 0.08607, saving model to ./ssd7_0_weights_epoch02_loss0.0824.h5\n",
      "188/188 [==============================] - 27s - loss: 0.0825 - val_loss: 0.0861\n",
      "Epoch 4/50\n",
      "187/188 [============================>.] - ETA: 0s - loss: 0.0811Epoch 00003: val_loss improved from 0.08607 to 0.08535, saving model to ./ssd7_0_weights_epoch03_loss0.0813.h5\n",
      "188/188 [==============================] - 27s - loss: 0.0815 - val_loss: 0.0853\n",
      "Epoch 5/50\n",
      "187/188 [============================>.] - ETA: 0s - loss: 0.0801Epoch 00004: val_loss improved from 0.08535 to 0.08416, saving model to ./ssd7_0_weights_epoch04_loss0.0803.h5\n",
      "188/188 [==============================] - 28s - loss: 0.0805 - val_loss: 0.0842\n",
      "Epoch 6/50\n",
      "187/188 [============================>.] - ETA: 0s - loss: 0.0797Epoch 00005: val_loss improved from 0.08416 to 0.08377, saving model to ./ssd7_0_weights_epoch05_loss0.0799.h5\n",
      "188/188 [==============================] - 28s - loss: 0.0801 - val_loss: 0.0838\n",
      "Epoch 7/50\n",
      "140/188 [=====================>........] - ETA: 6s - loss: 0.0791"
     ]
    }
   ],
   "source": [
    "### Run training\n",
    "\n",
    "# 6: Run training\n",
    "\n",
    "epochs = 50\n",
    "\n",
    "history = model.fit_generator(generator = train_generator,\n",
    "                              steps_per_epoch = ceil(n_train_samples/batch_size),\n",
    "                              epochs = epochs,\n",
    "                              callbacks = [ModelCheckpoint('./ssd7_0_weights_epoch{epoch:02d}_loss{loss:.4f}.h5',\n",
    "                                                           monitor='val_loss',\n",
    "                                                           verbose=1,\n",
    "                                                           save_best_only=True,\n",
    "                                                           save_weights_only=True,\n",
    "                                                           mode='auto',\n",
    "                                                           period=1),\n",
    "                                           EarlyStopping(monitor='val_loss',\n",
    "                                                         min_delta=0.001,\n",
    "                                                         patience=5),\n",
    "                                           ReduceLROnPlateau(monitor='val_loss',\n",
    "                                                             factor=0.5,\n",
    "                                                             patience=0,\n",
    "                                                             epsilon=0.001,\n",
    "                                                             cooldown=0)],\n",
    "                              validation_data = val_generator,\n",
    "                              validation_steps = ceil(n_val_samples/batch_size))"
   ]
  },
  {
   "cell_type": "code",
   "execution_count": 58,
   "metadata": {
    "nbpresent": {
     "id": "05a17ba0-b3b0-4fcc-a6ec-ee881e3ce80f"
    }
   },
   "outputs": [
    {
     "name": "stdout",
     "output_type": "stream",
     "text": [
      "\n",
      "Model saved as ssd7_test.h5\n",
      "Weights also saved separately as ssd7_test_weights.h5\n",
      "\n"
     ]
    }
   ],
   "source": [
    "model_name = 'ssd7_test'\n",
    "model.save('./{}.h5'.format(model_name))\n",
    "model.save_weights('./{}_weights.h5'.format(model_name))\n",
    "\n",
    "print()\n",
    "print(\"Model saved as {}.h5\".format(model_name))\n",
    "print(\"Weights also saved separately as {}_weights.h5\".format(model_name))\n",
    "print()"
   ]
  },
  {
   "cell_type": "code",
   "execution_count": 22,
   "metadata": {
    "collapsed": true,
    "nbpresent": {
     "id": "bd99647c-b042-47f0-94fe-ed004bee67f3"
    }
   },
   "outputs": [],
   "source": [
    "def _read_data(path, typ):\n",
    "    \"\"\"\n",
    "    Read and process data and labels\n",
    "\n",
    "    Parameters\n",
    "    ----------\n",
    "    path : path to directory that has 'data' subdir\n",
    "    typ : {'train', 'test'}\n",
    "\n",
    "    Returns\n",
    "    -------\n",
    "    X, y data\n",
    "\n",
    "    \"\"\"\n",
    "    try:\n",
    "        data_path = os.path.join(path, 'data', 'data_{}.npy'.format(typ))\n",
    "        src = np.load(data_path, mmap_mode='r')\n",
    "\n",
    "        labels_path = os.path.join(path, 'data', 'labels_{}.csv'.format(typ))\n",
    "        labels = pd.read_csv(labels_path)\n",
    "    except IOError:\n",
    "        raise IOError(\"'data/data_{}.npy' and 'data/labels_{}.csv' are not \"\n",
    "                      \"found. Ensure you ran 'python download_data.py' to \"\n",
    "                      \"obtain the train/test data\".format(typ))\n",
    "\n",
    "    # convert the dataframe with crater positions to list of\n",
    "    # list of (x, y, radius) tuples (list of arrays of shape (n, 3) with n\n",
    "    # true craters on an image\n",
    "\n",
    "    # determine locations of craters for each patch in the labels array\n",
    "    n_true_patches = labels.groupby('i').size().reindex(\n",
    "        range(src.shape[0]), fill_value=0).values\n",
    "    # make cumulative sum to obtain start/stop to slice the labels\n",
    "    n_cum = np.array(n_true_patches).cumsum()\n",
    "    n_cum = np.insert(n_cum, 0, 0)\n",
    "\n",
    "    labels_array = labels[['row_p', 'col_p', 'radius_p']].values\n",
    "    y = [[tuple(x) for x in labels_array[i:j]]\n",
    "         for i, j in zip(n_cum[:-1], n_cum[1:])]\n",
    "    # convert list to object array of lists\n",
    "    y_array = np.empty(len(y), dtype=object)\n",
    "    y_array[:] = y\n",
    "\n",
    "    test = os.getenv('RAMP_TEST_MODE', 0)\n",
    "\n",
    "    if test:\n",
    "        # return src, y\n",
    "        return src[:30], y_array[:30]\n",
    "    else:\n",
    "        return src, y_array"
   ]
  },
  {
   "cell_type": "code",
   "execution_count": 23,
   "metadata": {
    "collapsed": true,
    "nbpresent": {
     "id": "0b052aca-4ce1-4788-9c2c-c93378757391"
    }
   },
   "outputs": [],
   "source": [
    "X_test, y_test = _read_data('../../../mars_craters-kit/', 'test')"
   ]
  },
  {
   "cell_type": "code",
   "execution_count": null,
   "metadata": {
    "collapsed": true,
    "nbpresent": {
     "id": "c39804f8-fabb-49e0-bfd0-6672d2014c5c"
    }
   },
   "outputs": [],
   "source": []
  },
  {
   "cell_type": "code",
   "execution_count": 24,
   "metadata": {
    "collapsed": true,
    "nbpresent": {
     "id": "ffde53f9-80e8-4e2e-a21e-55d911f3c826"
    }
   },
   "outputs": [],
   "source": [
    "y_pred = model.predict(np.expand_dims(X_test[:500], -1))"
   ]
  },
  {
   "cell_type": "code",
   "execution_count": 25,
   "metadata": {
    "nbpresent": {
     "id": "caac5f3e-3d20-4a72-a794-391ba2a7d967"
    }
   },
   "outputs": [
    {
     "data": {
      "text/plain": [
       "(500, 846, 14)"
      ]
     },
     "execution_count": 25,
     "metadata": {},
     "output_type": "execute_result"
    }
   ],
   "source": [
    "y_pred.shape"
   ]
  },
  {
   "cell_type": "code",
   "execution_count": 26,
   "metadata": {
    "nbpresent": {
     "id": "df94bcf3-dd12-4c0b-8f80-023d485fbb36"
    }
   },
   "outputs": [
    {
     "data": {
      "text/plain": [
       "array([[ 0.84142345,  0.15857659],\n",
       "       [ 0.82689178,  0.17310819],\n",
       "       [ 0.81978643,  0.18021359],\n",
       "       ..., \n",
       "       [ 0.80010444,  0.19989553],\n",
       "       [ 0.79437906,  0.20562091],\n",
       "       [ 0.78197044,  0.21802959]], dtype=float32)"
      ]
     },
     "execution_count": 26,
     "metadata": {},
     "output_type": "execute_result"
    }
   ],
   "source": [
    "y_pred[0][:, :2]"
   ]
  },
  {
   "cell_type": "code",
   "execution_count": 27,
   "metadata": {
    "collapsed": true,
    "nbpresent": {
     "id": "2c8cb273-462c-4893-8c72-23ccb341d396"
    }
   },
   "outputs": [],
   "source": [
    "y_pred_decoded = decode_y(y_pred, confidence_thresh=0.01, input_coords='centroids')"
   ]
  },
  {
   "cell_type": "code",
   "execution_count": 28,
   "metadata": {
    "nbpresent": {
     "id": "abbb2b25-962c-47be-9cde-6014e065f3fd"
    }
   },
   "outputs": [
    {
     "data": {
      "text/plain": [
       "array([ 0.17709713,  0.17739184,  0.17829888,  0.17823724,  0.17724313,\n",
       "        0.17756718,  0.1782138 ,  0.17847304,  0.17917073,  0.17900665,\n",
       "        0.17880169,  0.17977194,  0.17939742,  0.17863852,  0.17978166,\n",
       "        0.17975879,  0.18008123,  0.18075475,  0.18121767,  0.18061842,\n",
       "        0.18024164,  0.18118511,  0.18035887,  0.18008967,  0.18013646,\n",
       "        0.1821449 ,  0.1821788 ,  0.18231404,  0.18172148,  0.18227811,\n",
       "        0.18193406,  0.18095078,  0.18225121,  0.18226628,  0.18021359,\n",
       "        0.18228711,  0.1824047 ,  0.18252155,  0.18253629,  0.18262178,\n",
       "        0.18345501,  0.18302375,  0.18303211,  0.18323319,  0.18901487,\n",
       "        0.18342045,  0.18376042,  0.18437603,  0.18782552,  0.18729779,\n",
       "        0.18389663,  0.18396968,  0.18451415,  0.18485679,  0.18486047,\n",
       "        0.18726531,  0.18529756,  0.18569162,  0.18552496,  0.18527919,\n",
       "        0.18553355,  0.18564382,  0.18604761,  0.18623441,  0.18656793,\n",
       "        0.18714413,  0.1872687 ,  0.18985303,  0.18506823,  0.18387632,\n",
       "        0.18764429,  0.18327753,  0.18804933,  0.1880537 ,  0.18838903,\n",
       "        0.187989  ,  0.18905208,  0.18978386,  0.18995044,  0.19028798,\n",
       "        0.19016381,  0.19076592,  0.19031198,  0.20476604,  0.1921005 ,\n",
       "        0.19072513,  0.19044754,  0.19142124,  0.1928362 ,  0.20289117,\n",
       "        0.19195703,  0.1915203 ,  0.19218644,  0.20593615,  0.1938668 ,\n",
       "        0.19275196,  0.19246897,  0.1929493 ,  0.19499612,  0.19601443,\n",
       "        0.19379346,  0.19307597,  0.19406803,  0.20700923,  0.20982012,\n",
       "        0.19480036,  0.19423762,  0.1951658 ,  0.1969229 ,  0.19728315,\n",
       "        0.19593498,  0.19524877,  0.19618931,  0.19941337,  0.20135079,\n",
       "        0.19677857,  0.19619757,  0.19695126,  0.20909402,  0.20685485,\n",
       "        0.19719739,  0.1969931 ,  0.19804436,  0.20562091,  0.20397833,\n",
       "        0.19837826,  0.19817989,  0.19944561,  0.20231701,  0.20074749,\n",
       "        0.19989553,  0.19949365,  0.20031014,  0.19977267,  0.19827011,\n",
       "        0.20090561,  0.20033813,  0.20166852,  0.19713372,  0.20002902,\n",
       "        0.20261718,  0.2022047 ,  0.20380153,  0.19659641,  0.19561015,\n",
       "        0.20443849,  0.20389055,  0.2053484 ,  0.1946072 ,  0.19376321,\n",
       "        0.20588037,  0.2054987 ,  0.20633858,  0.19270547,  0.19174589,\n",
       "        0.20698881,  0.20638584,  0.2074981 ,  0.20823734,  0.20886035,\n",
       "        0.19051613,  0.2101877 ,  0.21416205,  0.21028692,  0.21113412,\n",
       "        0.21292664,  0.21489754,  0.21509486,  0.21532455,  0.2155793 ,\n",
       "        0.21571131,  0.21606725,  0.21681847,  0.21692139,  0.2171246 ,\n",
       "        0.21751904,  0.2178259 ,  0.21849847,  0.21852908,  0.21966979,\n",
       "        0.22037901,  0.22096279,  0.22157262,  0.22182737,  0.22313003,\n",
       "        0.22332826,  0.22409542,  0.22628792,  0.22681151,  0.22823437,\n",
       "        0.22848143,  0.23027429,  0.23089319,  0.23098758,  0.23197167,\n",
       "        0.23438604,  0.23565321,  0.23921448,  0.24022737,  0.26094776])"
      ]
     },
     "execution_count": 28,
     "metadata": {},
     "output_type": "execute_result"
    }
   ],
   "source": [
    "y_pred_decoded[0][:, 1]"
   ]
  },
  {
   "cell_type": "code",
   "execution_count": 29,
   "metadata": {
    "collapsed": true,
    "nbpresent": {
     "id": "bdb75ac6-ef03-418c-a272-0b5bd469d7c6"
    }
   },
   "outputs": [],
   "source": [
    "def get_xyr2(boxes, pred=True):\n",
    "    res = []\n",
    "    for box in boxes:\n",
    "        if pred:\n",
    "            box = box[1:]\n",
    "        r = (((box[2]-box[1]) + (box[4]-box[3])) /2) / 2\n",
    "        x = box[1] + (box[2] - box[1])/2\n",
    "        y = box[3] + (box[4] - box[3])/2\n",
    "        conf = box[0]\n",
    "        if pred:\n",
    "            res.append((conf, x, y, r))\n",
    "        else:\n",
    "            res.append((x, y, r))\n",
    "    return res"
   ]
  },
  {
   "cell_type": "code",
   "execution_count": 30,
   "metadata": {
    "collapsed": true,
    "nbpresent": {
     "id": "198ac8e6-c2e7-48bb-89a3-6e7108e97dae"
    }
   },
   "outputs": [],
   "source": [
    "def get_xyr3(boxes, pred=True):\n",
    "    res = []\n",
    "    for box in boxes:\n",
    "        if pred:\n",
    "            box = box[1:]\n",
    "        r = (((box[2]-box[1]) + (box[4]-box[3])) /2) / 2\n",
    "        x = box[1] + (box[2] - box[1])/2\n",
    "        y = box[3] + (box[4] - box[3])/2\n",
    "        conf = box[0]\n",
    "        if pred:\n",
    "            res.append((conf, y, x, r))\n",
    "        else:\n",
    "            res.append((x, y, r))\n",
    "    return res"
   ]
  },
  {
   "cell_type": "code",
   "execution_count": 31,
   "metadata": {
    "collapsed": true,
    "nbpresent": {
     "id": "e304d2c5-9768-4028-8389-aac5d8ad52b4"
    }
   },
   "outputs": [],
   "source": [
    "y_pred2 = [get_xyr2(x, pred=True) for x in y_pred_decoded]"
   ]
  },
  {
   "cell_type": "code",
   "execution_count": 32,
   "metadata": {
    "collapsed": true,
    "nbpresent": {
     "id": "f3e5ae86-818f-4f0c-94d9-042c6e2773fd"
    }
   },
   "outputs": [],
   "source": [
    "y_pred3 = [get_xyr3(x, pred=True) for x in y_pred_decoded]"
   ]
  },
  {
   "cell_type": "code",
   "execution_count": null,
   "metadata": {
    "collapsed": true,
    "nbpresent": {
     "id": "71c59d58-8568-4875-a5b4-8e0641e2d0cc"
    }
   },
   "outputs": [],
   "source": []
  },
  {
   "cell_type": "code",
   "execution_count": 33,
   "metadata": {
    "collapsed": true,
    "nbpresent": {
     "id": "da15f73f-2883-4f58-b78e-6f6709d24cf1"
    }
   },
   "outputs": [],
   "source": [
    "import rampwf"
   ]
  },
  {
   "cell_type": "code",
   "execution_count": 34,
   "metadata": {
    "collapsed": true,
    "nbpresent": {
     "id": "9daa7b8b-6605-42c5-8bf1-7ab999b29847"
    }
   },
   "outputs": [],
   "source": [
    "precision = rampwf.score_types.DetectionPrecision(iou_threshold=0.00001, conf_threshold=0.25)"
   ]
  },
  {
   "cell_type": "code",
   "execution_count": 35,
   "metadata": {
    "collapsed": true,
    "nbpresent": {
     "id": "2fbd00b8-3ae1-45cc-8155-999efbfa49b8"
    }
   },
   "outputs": [],
   "source": [
    "average_precision = rampwf.score_types.AverageDetectionPrecision(iou_threshold=0.01)"
   ]
  },
  {
   "cell_type": "code",
   "execution_count": 30,
   "metadata": {
    "nbpresent": {
     "id": "853c588e-c56a-4d22-8947-a426686f2f4e"
    }
   },
   "outputs": [
    {
     "name": "stderr",
     "output_type": "stream",
     "text": [
      "/home/joris/ramp-workflow/rampwf/score_types/detection.py:449: RuntimeWarning: invalid value encountered in long_scalars\n",
      "  return n_pred_correct / n_pred_all\n"
     ]
    },
    {
     "data": {
      "text/plain": [
       "0.054517973427212867"
      ]
     },
     "execution_count": 30,
     "metadata": {},
     "output_type": "execute_result"
    }
   ],
   "source": [
    "average_precision(y_test, y_pred2)"
   ]
  },
  {
   "cell_type": "code",
   "execution_count": 38,
   "metadata": {
    "nbpresent": {
     "id": "d71f9c52-9b51-4704-9f46-2471816c3b31"
    }
   },
   "outputs": [
    {
     "data": {
      "text/plain": [
       "0.085918854415274457"
      ]
     },
     "execution_count": 38,
     "metadata": {},
     "output_type": "execute_result"
    }
   ],
   "source": [
    "precision(y_test, y_pred2, conf_threshold=0.25)"
   ]
  },
  {
   "cell_type": "code",
   "execution_count": 39,
   "metadata": {
    "nbpresent": {
     "id": "00ab55b4-252e-4334-b1fd-5ed007998cab"
    }
   },
   "outputs": [
    {
     "data": {
      "text/plain": [
       "0.21718377088305491"
      ]
     },
     "execution_count": 39,
     "metadata": {},
     "output_type": "execute_result"
    }
   ],
   "source": [
    "precision(y_test, y_pred3, conf_threshold=0.25)"
   ]
  },
  {
   "cell_type": "code",
   "execution_count": null,
   "metadata": {
    "collapsed": true,
    "nbpresent": {
     "id": "2d1437f6-90bc-491b-9d03-3605938e4f77"
    }
   },
   "outputs": [],
   "source": []
  },
  {
   "cell_type": "code",
   "execution_count": null,
   "metadata": {
    "collapsed": true,
    "nbpresent": {
     "id": "ad43f25b-2e4a-4640-9619-e9a36998460b"
    }
   },
   "outputs": [],
   "source": []
  },
  {
   "cell_type": "code",
   "execution_count": 90,
   "metadata": {
    "nbpresent": {
     "id": "496f6545-b7a3-43bc-875e-f3e8272c603a"
    }
   },
   "outputs": [
    {
     "data": {
      "text/plain": [
       "[(0.16140586137771606,\n",
       "  37.286956787109375,\n",
       "  204.69013977050781,\n",
       "  8.1024932861328125),\n",
       " (0.16149838268756866,\n",
       "  27.013156890869141,\n",
       "  201.11296081542969,\n",
       "  20.164506912231445),\n",
       " (0.16170215606689453,\n",
       "  20.467216491699219,\n",
       "  179.36500549316406,\n",
       "  15.128203392028809)]"
      ]
     },
     "execution_count": 90,
     "metadata": {},
     "output_type": "execute_result"
    }
   ],
   "source": [
    "y_pred2[0][:3]"
   ]
  },
  {
   "cell_type": "code",
   "execution_count": 91,
   "metadata": {
    "nbpresent": {
     "id": "cd92f1c2-1cb6-45e5-868a-07271d317b9d"
    }
   },
   "outputs": [
    {
     "data": {
      "text/plain": [
       "[(0.16140586137771606,\n",
       "  204.69013977050781,\n",
       "  37.286956787109375,\n",
       "  8.1024932861328125),\n",
       " (0.16149838268756866,\n",
       "  201.11296081542969,\n",
       "  27.013156890869141,\n",
       "  20.164506912231445),\n",
       " (0.16170215606689453,\n",
       "  179.36500549316406,\n",
       "  20.467216491699219,\n",
       "  15.128203392028809)]"
      ]
     },
     "execution_count": 91,
     "metadata": {},
     "output_type": "execute_result"
    }
   ],
   "source": [
    "y_pred3[0][:3]"
   ]
  },
  {
   "cell_type": "code",
   "execution_count": 57,
   "metadata": {
    "collapsed": true,
    "nbpresent": {
     "id": "5349e7a6-48d1-4572-87c6-983245500087"
    }
   },
   "outputs": [],
   "source": [
    "i = 8"
   ]
  },
  {
   "cell_type": "code",
   "execution_count": 58,
   "metadata": {
    "nbpresent": {
     "id": "de5489ca-dd86-4ee6-b92b-a6c8ee861687"
    }
   },
   "outputs": [
    {
     "name": "stdout",
     "output_type": "stream",
     "text": [
      "(174.0, 202.0, 9.25)\n",
      "(211.0, 27.0, 7.3499999999999996)\n"
     ]
    },
    {
     "data": {
      "image/png": "[encoded data removed]",
      "text/plain": [
       "<matplotlib.figure.Figure at 0x7fb8566981d0>"
      ]
     },
     "metadata": {},
     "output_type": "display_data"
    }
   ],
   "source": [
    "# 5: Draw the predicted boxes onto the image\n",
    "\n",
    "fig, ax = plt.subplots(figsize=(20,12))\n",
    "ax.imshow(X_test[i], cmap=plt.cm.gray)\n",
    "\n",
    "classes = ['background', 'car', 'truck', 'pedestrian', 'bicyclist', 'light'] # Just so we can print class names onto the image instead of IDs\n",
    "\n",
    "# Draw the predicted boxes in blue\n",
    "#for box in np.sort(y_pred_decoded, axis=0)[-5:]:#[i]:\n",
    "#for box in y_pred_decoded:#[i]\n",
    "for box in y_pred3[i][-5:]:#[i]\n",
    "\n",
    "    #label = '{}: {:.2f}'.format(classes[int(box[0])], box[1])\n",
    "    # current_axis.add_patch(plt.Rectangle((box[2], box[4]), box[3]-box[2], box[5]-box[4], color='blue', fill=False, linewidth=2))  \n",
    "    #ax.add_patch(plt.Rectangle((box[4], box[2]), box[5]-box[4], box[3]-box[2], color='blue', fill=False, linewidth=2))  \n",
    "    #current_axis.text(box[2], box[4], label, size='x-large', color='white', bbox={'facecolor':'blue', 'alpha':1.0})\n",
    "    ax.add_patch(plt.Rectangle((box[2]-box[3], box[1]-box[3]), box[3]*2, box[3]*2, color='red', fill=False, linewidth=2))  \n",
    "\n",
    "# Draw the ground truth boxes in green (omit the label for more clarity)\n",
    "for box in y_test[i]:\n",
    "    print(box)\n",
    "    #label = '{}'.format(classes[int(box[0])])\n",
    "    ax.add_patch(plt.Rectangle((box[1]-box[2], box[0]-box[2]), box[2]*2, box[2]*2, color='green', fill=False, linewidth=2))  \n",
    "    #current_axis.text(box[1], box[3], label, size='x-large', color='white', bbox={'facecolor':'green', 'alpha':1.0})"
   ]
  },
  {
   "cell_type": "code",
   "execution_count": null,
   "metadata": {
    "collapsed": true,
    "nbpresent": {
     "id": "67be09b4-b75e-4d02-99b2-90c0bfe624de"
    }
   },
   "outputs": [],
   "source": []
  },
  {
   "cell_type": "code",
   "execution_count": null,
   "metadata": {
    "collapsed": true,
    "nbpresent": {
     "id": "40c88281-6cb2-4199-8134-9f97f29a40c2"
    }
   },
   "outputs": [],
   "source": []
  },
  {
   "cell_type": "code",
   "execution_count": 12,
   "metadata": {
    "nbpresent": {
     "id": "96af26df-a443-4ad4-848b-b46e56b08452"
    },
    "scrolled": false
   },
   "outputs": [
    {
     "name": "stdout",
     "output_type": "stream",
     "text": [
      "Epoch 1/50\n",
      "31/32 [============================>.] - ETA: 0s - loss: 0.2031Epoch 00000: val_loss improved from inf to 0.12852, saving model to ./ssd7_0_weights_epoch00_loss0.2051.h5\n",
      "32/32 [==============================] - 5s - loss: 0.2108 - val_loss: 0.1285\n",
      "Epoch 2/50\n",
      "31/32 [============================>.] - ETA: 0s - loss: 0.0988Epoch 00001: val_loss improved from 0.12852 to 0.10981, saving model to ./ssd7_0_weights_epoch01_loss0.1007.h5\n",
      "32/32 [==============================] - 3s - loss: 0.1061 - val_loss: 0.1098\n",
      "Epoch 3/50\n",
      "31/32 [============================>.] - ETA: 0s - loss: 0.0856Epoch 00002: val_loss improved from 0.10981 to 0.09170, saving model to ./ssd7_0_weights_epoch02_loss0.0874.h5\n",
      "32/32 [==============================] - 3s - loss: 0.0925 - val_loss: 0.0917\n",
      "Epoch 4/50\n",
      "31/32 [============================>.] - ETA: 0s - loss: 0.0798Epoch 00003: val_loss did not improve\n",
      "32/32 [==============================] - 3s - loss: 0.0860 - val_loss: 0.0932\n",
      "Epoch 5/50\n",
      "31/32 [============================>.] - ETA: 0s - loss: 0.0768Epoch 00004: val_loss improved from 0.09170 to 0.08577, saving model to ./ssd7_0_weights_epoch04_loss0.0780.h5\n",
      "32/32 [==============================] - 3s - loss: 0.0814 - val_loss: 0.0858\n",
      "Epoch 6/50\n",
      "31/32 [============================>.] - ETA: 0s - loss: 0.0745Epoch 00005: val_loss did not improve\n",
      "32/32 [==============================] - 3s - loss: 0.0788 - val_loss: 0.0881\n",
      "Epoch 7/50\n",
      "31/32 [============================>.] - ETA: 0s - loss: 0.0734Epoch 00006: val_loss improved from 0.08577 to 0.08541, saving model to ./ssd7_0_weights_epoch06_loss0.0744.h5\n",
      "32/32 [==============================] - 3s - loss: 0.0774 - val_loss: 0.0854\n",
      "Epoch 8/50\n",
      "31/32 [============================>.] - ETA: 0s - loss: 0.0721Epoch 00007: val_loss improved from 0.08541 to 0.08469, saving model to ./ssd7_0_weights_epoch07_loss0.0731.h5\n",
      "32/32 [==============================] - 3s - loss: 0.0761 - val_loss: 0.0847\n",
      "Epoch 9/50\n",
      "31/32 [============================>.] - ETA: 0s - loss: 0.0718Epoch 00008: val_loss improved from 0.08469 to 0.08466, saving model to ./ssd7_0_weights_epoch08_loss0.0728.h5\n",
      "32/32 [==============================] - 3s - loss: 0.0756 - val_loss: 0.0847\n",
      "Epoch 10/50\n",
      "31/32 [============================>.] - ETA: 0s - loss: 0.0715Epoch 00009: val_loss improved from 0.08466 to 0.08414, saving model to ./ssd7_0_weights_epoch09_loss0.0725.h5\n",
      "32/32 [==============================] - 3s - loss: 0.0752 - val_loss: 0.0841\n",
      "Epoch 11/50\n",
      "31/32 [============================>.] - ETA: 0s - loss: 0.0712Epoch 00010: val_loss improved from 0.08414 to 0.08358, saving model to ./ssd7_0_weights_epoch10_loss0.0722.h5\n",
      "32/32 [==============================] - 3s - loss: 0.0749 - val_loss: 0.0836\n",
      "Epoch 12/50\n",
      "31/32 [============================>.] - ETA: 0s - loss: 0.0712Epoch 00011: val_loss improved from 0.08358 to 0.08318, saving model to ./ssd7_0_weights_epoch11_loss0.0721.h5\n",
      "32/32 [==============================] - 3s - loss: 0.0748 - val_loss: 0.0832\n",
      "Epoch 13/50\n",
      "31/32 [============================>.] - ETA: 0s - loss: 0.0711Epoch 00012: val_loss improved from 0.08318 to 0.08275, saving model to ./ssd7_0_weights_epoch12_loss0.0720.h5\n",
      "32/32 [==============================] - 3s - loss: 0.0747 - val_loss: 0.0827\n",
      "Epoch 14/50\n",
      "31/32 [============================>.] - ETA: 0s - loss: 0.0709Epoch 00013: val_loss improved from 0.08275 to 0.08255, saving model to ./ssd7_0_weights_epoch13_loss0.0719.h5\n",
      "32/32 [==============================] - 3s - loss: 0.0746 - val_loss: 0.0825\n",
      "Epoch 15/50\n",
      "31/32 [============================>.] - ETA: 0s - loss: 0.0709Epoch 00014: val_loss improved from 0.08255 to 0.08240, saving model to ./ssd7_0_weights_epoch14_loss0.0719.h5\n",
      "32/32 [==============================] - 3s - loss: 0.0745 - val_loss: 0.0824\n",
      "Epoch 16/50\n",
      "31/32 [============================>.] - ETA: 0s - loss: 0.0709Epoch 00015: val_loss improved from 0.08240 to 0.08232, saving model to ./ssd7_0_weights_epoch15_loss0.0718.h5\n",
      "32/32 [==============================] - 3s - loss: 0.0745 - val_loss: 0.0823\n",
      "Epoch 17/50\n",
      "31/32 [============================>.] - ETA: 0s - loss: 0.0709Epoch 00016: val_loss improved from 0.08232 to 0.08227, saving model to ./ssd7_0_weights_epoch16_loss0.0718.h5\n",
      "32/32 [==============================] - 3s - loss: 0.0745 - val_loss: 0.0823\n",
      "Epoch 18/50\n",
      "31/32 [============================>.] - ETA: 0s - loss: 0.0709Epoch 00017: val_loss improved from 0.08227 to 0.08226, saving model to ./ssd7_0_weights_epoch17_loss0.0718.h5\n",
      "32/32 [==============================] - 3s - loss: 0.0745 - val_loss: 0.0823\n",
      "Epoch 19/50\n",
      "31/32 [============================>.] - ETA: 0s - loss: 0.0708Epoch 00018: val_loss did not improve\n",
      "32/32 [==============================] - 3s - loss: 0.0745 - val_loss: 0.0823\n",
      "Epoch 20/50\n",
      "31/32 [============================>.] - ETA: 0s - loss: 0.0708Epoch 00019: val_loss did not improve\n",
      "32/32 [==============================] - 3s - loss: 0.0745 - val_loss: 0.0823\n",
      "\n",
      "Model saved as ssd7_0.h5\n",
      "Weights also saved separately as ssd7_0_weights.h5\n",
      "\n"
     ]
    }
   ],
   "source": [
    "### Run training\n",
    "\n",
    "# 6: Run training\n",
    "\n",
    "epochs = 50\n",
    "\n",
    "history = model.fit_generator(generator = train_generator,\n",
    "                              steps_per_epoch = ceil(n_train_samples/batch_size),\n",
    "                              epochs = epochs,\n",
    "                              callbacks = [ModelCheckpoint('./ssd7_0_weights_epoch{epoch:02d}_loss{loss:.4f}.h5',\n",
    "                                                           monitor='val_loss',\n",
    "                                                           verbose=1,\n",
    "                                                           save_best_only=True,\n",
    "                                                           save_weights_only=True,\n",
    "                                                           mode='auto',\n",
    "                                                           period=1),\n",
    "                                           EarlyStopping(monitor='val_loss',\n",
    "                                                         min_delta=0.001,\n",
    "                                                         patience=5),\n",
    "                                           ReduceLROnPlateau(monitor='val_loss',\n",
    "                                                             factor=0.5,\n",
    "                                                             patience=0,\n",
    "                                                             epsilon=0.001,\n",
    "                                                             cooldown=0)],\n",
    "                              validation_data = val_generator,\n",
    "                              validation_steps = ceil(n_val_samples/batch_size))\n",
    "\n",
    "model_name = 'ssd7_0'\n",
    "model.save('./{}.h5'.format(model_name))\n",
    "model.save_weights('./{}_weights.h5'.format(model_name))\n",
    "\n",
    "print()\n",
    "print(\"Model saved as {}.h5\".format(model_name))\n",
    "print(\"Weights also saved separately as {}_weights.h5\".format(model_name))\n",
    "print()"
   ]
  },
  {
   "cell_type": "code",
   "execution_count": 9,
   "metadata": {
    "collapsed": true,
    "nbpresent": {
     "id": "a1d1ba3f-186a-45a5-870f-86498a8fe863"
    }
   },
   "outputs": [],
   "source": [
    "model.load_weights(\"ssd7_0_weights.h5\")"
   ]
  },
  {
   "cell_type": "markdown",
   "metadata": {
    "nbpresent": {
     "id": "c836536c-16d2-4e53-adea-dfca2797a579"
    }
   },
   "source": [
    "### 4. Make predictions\n",
    "\n",
    "Now let's make some predictions on the validation dataset with the trained model. We'll use the validation generator which we've already set up above. If you did not use a validation dataset, change \"val_dataset\" to \"train_dataset\" below (or whatever you called the `BatchGenerator` instance you used for training above). Feel free to change the batch size."
   ]
  },
  {
   "cell_type": "code",
   "execution_count": 14,
   "metadata": {
    "collapsed": true,
    "nbpresent": {
     "id": "230fda05-5bee-4e36-8e28-8f59e4e1aa74"
    }
   },
   "outputs": [],
   "source": [
    "### Make predictions\n",
    "\n",
    "# 1: Set the generator\n",
    "\n",
    "predict_generator = val_dataset.generate(batch_size=1,\n",
    "                                         train=False,\n",
    "                                         equalize=False,\n",
    "                                         brightness=False,\n",
    "                                         flip=False,\n",
    "                                         translate=False,\n",
    "                                         scale=False,\n",
    "                                         random_crop=False,\n",
    "                                         crop=False,\n",
    "                                         resize=False,\n",
    "                                         gray=False,\n",
    "                                         limit_boxes=True,\n",
    "                                         include_thresh=0.4,\n",
    "                                         diagnostics=False)"
   ]
  },
  {
   "cell_type": "code",
   "execution_count": 15,
   "metadata": {
    "nbpresent": {
     "id": "ab7a5117-3438-4c69-a38a-3ef3f0386137"
    }
   },
   "outputs": [
    {
     "name": "stdout",
     "output_type": "stream",
     "text": [
      "Image: 1820\n",
      "\n",
      "Ground truth boxes:\n",
      "\n",
      "[[  1.   51.5  68.5  26.5  43.5]]\n"
     ]
    }
   ],
   "source": [
    "# 2: Generate samples\n",
    "\n",
    "X, y_true, filenames = next(predict_generator)\n",
    "\n",
    "i = 0 # Which batch item to look at\n",
    "\n",
    "print(\"Image:\", filenames[i])\n",
    "print()\n",
    "print(\"Ground truth boxes:\\n\")\n",
    "print(y_true[i])"
   ]
  },
  {
   "cell_type": "code",
   "execution_count": 16,
   "metadata": {
    "nbpresent": {
     "id": "90a67504-839f-40ac-80f3-8114022afe7d"
    }
   },
   "outputs": [
    {
     "data": {
      "text/plain": [
       "(1, 224, 224, 1)"
      ]
     },
     "execution_count": 16,
     "metadata": {},
     "output_type": "execute_result"
    }
   ],
   "source": [
    "X.shape"
   ]
  },
  {
   "cell_type": "code",
   "execution_count": 17,
   "metadata": {
    "nbpresent": {
     "id": "075bab96-fe8d-4e09-a81f-73a701a40250"
    }
   },
   "outputs": [
    {
     "data": {
      "text/plain": [
       "(6, 6)"
      ]
     },
     "execution_count": 17,
     "metadata": {},
     "output_type": "execute_result"
    }
   ],
   "source": [
    "y_pred = model.predict(X)\n",
    "y_pred_decoded = decode_y(y_pred, confidence_thresh=0.27, input_coords='centroids')[0]\n",
    "y_pred_decoded.shape"
   ]
  },
  {
   "cell_type": "code",
   "execution_count": 18,
   "metadata": {
    "nbpresent": {
     "id": "7f4a6031-bd24-45fb-a42f-628c4aad55b5"
    }
   },
   "outputs": [
    {
     "data": {
      "text/plain": [
       "array([ 0.27581784,  0.27528349,  0.27373803,  0.27317384,  0.2716119 ,\n",
       "        0.27154768])"
      ]
     },
     "execution_count": 18,
     "metadata": {},
     "output_type": "execute_result"
    }
   ],
   "source": [
    "y_pred_decoded[:, 1]"
   ]
  },
  {
   "cell_type": "code",
   "execution_count": 19,
   "metadata": {
    "nbpresent": {
     "id": "ffa347d2-cb05-44fc-aa56-5c7d05e25976"
    }
   },
   "outputs": [
    {
     "data": {
      "image/png": "[encoded data removed]",
      "text/plain": [
       "<matplotlib.figure.Figure at 0x7f035c3604a8>"
      ]
     },
     "metadata": {},
     "output_type": "display_data"
    }
   ],
   "source": [
    "# 5: Draw the predicted boxes onto the image\n",
    "\n",
    "fig, ax = plt.subplots(figsize=(20,12))\n",
    "ax.imshow(X[0][:,:,0], cmap=plt.cm.gray)\n",
    "\n",
    "classes = ['background', 'car', 'truck', 'pedestrian', 'bicyclist', 'light'] # Just so we can print class names onto the image instead of IDs\n",
    "\n",
    "# Draw the predicted boxes in blue\n",
    "#for box in np.sort(y_pred_decoded, axis=0)[-5:]:#[i]:\n",
    "for box in y_pred_decoded:#[i]\n",
    "    #label = '{}: {:.2f}'.format(classes[int(box[0])], box[1])\n",
    "    # current_axis.add_patch(plt.Rectangle((box[2], box[4]), box[3]-box[2], box[5]-box[4], color='blue', fill=False, linewidth=2))  \n",
    "    #ax.add_patch(plt.Rectangle((box[4], box[2]), box[5]-box[4], box[3]-box[2], color='blue', fill=False, linewidth=2))  \n",
    "    #current_axis.text(box[2], box[4], label, size='x-large', color='white', bbox={'facecolor':'blue', 'alpha':1.0})\n",
    "    ax.add_patch(plt.Rectangle((box[2], box[4]), box[5]-box[4], box[3]-box[2], color='red', fill=False, linewidth=2))  \n",
    "\n",
    "# Draw the ground truth boxes in green (omit the label for more clarity)\n",
    "for box in y_true[i]:\n",
    "    label = '{}'.format(classes[int(box[0])])\n",
    "    ax.add_patch(plt.Rectangle((box[1], box[3]), box[2]-box[1], box[4]-box[3], color='green', fill=False, linewidth=2))  \n",
    "    #current_axis.text(box[1], box[3], label, size='x-large', color='white', bbox={'facecolor':'green', 'alpha':1.0})"
   ]
  },
  {
   "cell_type": "code",
   "execution_count": 201,
   "metadata": {
    "collapsed": true,
    "nbpresent": {
     "id": "660bf8d8-e692-4bde-8114-8194bb8d6dc8"
    }
   },
   "outputs": [],
   "source": [
    "img_i += 1\n",
    "fig.savefig('pred{0}.png'.format(img_i))"
   ]
  },
  {
   "cell_type": "code",
   "execution_count": 71,
   "metadata": {
    "collapsed": true,
    "nbpresent": {
     "id": "c9417338-e50e-47b2-8e60-232b417c6f9c"
    }
   },
   "outputs": [],
   "source": [
    "img_i = 0"
   ]
  },
  {
   "cell_type": "code",
   "execution_count": null,
   "metadata": {
    "collapsed": true,
    "nbpresent": {
     "id": "cf2a910c-34e1-4c27-864e-feda29527772"
    }
   },
   "outputs": [],
   "source": []
  },
  {
   "cell_type": "code",
   "execution_count": null,
   "metadata": {
    "collapsed": true,
    "nbpresent": {
     "id": "64469675-cf02-418d-9269-f40e3fb98600"
    }
   },
   "outputs": [],
   "source": []
  },
  {
   "cell_type": "code",
   "execution_count": 56,
   "metadata": {
    "collapsed": true,
    "nbpresent": {
     "id": "c3e9bb96-3551-4450-9a2e-754496f9a97a"
    }
   },
   "outputs": [],
   "source": [
    "# 3: Make a prediction\n",
    "\n",
    "y_pred = model.predict(X)"
   ]
  },
  {
   "cell_type": "code",
   "execution_count": 45,
   "metadata": {
    "nbpresent": {
     "id": "5550ee25-03fc-44a1-a443-82bd4186faaa"
    }
   },
   "outputs": [
    {
     "data": {
      "text/plain": [
       "(1, 846, 14)"
      ]
     },
     "execution_count": 45,
     "metadata": {},
     "output_type": "execute_result"
    }
   ],
   "source": [
    "y_pred.shape"
   ]
  },
  {
   "cell_type": "code",
   "execution_count": 46,
   "metadata": {
    "nbpresent": {
     "id": "89202a3f-0061-489a-ba16-885e68c7ccc9"
    }
   },
   "outputs": [
    {
     "data": {
      "text/plain": [
       "array([[   0.95334971,    0.34092188,    0.73196298,    0.89551771,\n",
       "           0.80067033,    0.93027145,  216.8661499 ,  216.8661499 ,\n",
       "         143.36000061,  143.36000061,    1.        ,    1.        ,\n",
       "           1.        ,    1.        ]], dtype=float32)"
      ]
     },
     "execution_count": 46,
     "metadata": {},
     "output_type": "execute_result"
    }
   ],
   "source": [
    "y_pred.max(axis=1)"
   ]
  },
  {
   "cell_type": "code",
   "execution_count": 47,
   "metadata": {
    "nbpresent": {
     "id": "ec69d47e-826d-4c1a-9405-51da4ea98892"
    }
   },
   "outputs": [
    {
     "data": {
      "text/plain": [
       "array([[  8.75489414e-01,   1.24510586e-01,  -7.92782307e-02,\n",
       "         -3.78759056e-02,  -1.63101763e-01,  -4.05734301e-01,\n",
       "          6.63384628e+00,   6.63384628e+00,   1.32676926e+01,\n",
       "          1.32676926e+01,   1.00000000e+00,   1.00000000e+00,\n",
       "          1.00000000e+00,   1.00000000e+00],\n",
       "       [  8.59737992e-01,   1.40262067e-01,  -1.03496417e-01,\n",
       "          1.42429918e-02,  -3.04378510e-01,  -3.73497128e-01,\n",
       "          1.29230766e+01,   6.63384628e+00,   1.79200001e+01,\n",
       "          1.32676926e+01,   1.00000000e+00,   1.00000000e+00,\n",
       "          1.00000000e+00,   1.00000000e+00],\n",
       "       [  8.55269909e-01,   1.44730061e-01,  -1.58937097e-01,\n",
       "         -8.65305811e-02,  -2.59914041e-01,  -2.76380807e-01,\n",
       "          2.15384617e+01,   6.63384628e+00,   1.79200001e+01,\n",
       "          1.32676926e+01,   1.00000000e+00,   1.00000000e+00,\n",
       "          1.00000000e+00,   1.00000000e+00],\n",
       "       [  8.41350377e-01,   1.58649594e-01,   2.92409882e-02,\n",
       "         -6.61261678e-02,  -1.99257568e-01,  -2.33007193e-01,\n",
       "          3.01538467e+01,   6.63384628e+00,   1.79200001e+01,\n",
       "          1.32676926e+01,   1.00000000e+00,   1.00000000e+00,\n",
       "          1.00000000e+00,   1.00000000e+00],\n",
       "       [  8.32430601e-01,   1.67569444e-01,   9.48939025e-02,\n",
       "         -2.80933380e-02,  -2.11010069e-01,  -1.51014671e-01,\n",
       "          3.87692299e+01,   6.63384628e+00,   1.79200001e+01,\n",
       "          1.32676926e+01,   1.00000000e+00,   1.00000000e+00,\n",
       "          1.00000000e+00,   1.00000000e+00]], dtype=float32)"
      ]
     },
     "execution_count": 47,
     "metadata": {},
     "output_type": "execute_result"
    }
   ],
   "source": [
    "y_pred[0, :5, :]"
   ]
  },
  {
   "cell_type": "markdown",
   "metadata": {
    "nbpresent": {
     "id": "5fc2ffe2-1d40-4c57-bc2e-b3642a3e6805"
    }
   },
   "source": [
    "Now let's decode the raw prediction `y_pred`. The function `decode_y2()` converts the box coordinates from offsets back to absolute coordinates, keeps only the positive predictions (i.e. throws away all boxes for which the highest confidence is for class 0), applies a confidence threshold to all positive predictions, and applies non-maximum suppression to the remaining predictions, in this order. In case you would like to omit the NMS step, set `iou_threshold = None`.\n",
    "\n",
    "You could also use `decode_y()`, which follows the prodecure outlined in the paper, to decode the raw predictions, but `decode_y2()` is more efficient and I found it yields better results. Check out the documentation for details on how the two decoders differ."
   ]
  },
  {
   "cell_type": "code",
   "execution_count": 57,
   "metadata": {
    "collapsed": true,
    "nbpresent": {
     "id": "9f2d8471-39d3-4e99-bb34-239f92de1ff9"
    }
   },
   "outputs": [],
   "source": [
    "y_pred_decoded = decode_y(y_pred, confidence_thresh=0.3, input_coords='centroids')[0]"
   ]
  },
  {
   "cell_type": "code",
   "execution_count": 50,
   "metadata": {
    "nbpresent": {
     "id": "59dc6f23-8404-4a60-a1c9-022d68faf3cd"
    }
   },
   "outputs": [
    {
     "data": {
      "text/plain": [
       "(3, 6)"
      ]
     },
     "execution_count": 50,
     "metadata": {},
     "output_type": "execute_result"
    }
   ],
   "source": [
    "y_pred_decoded.shape"
   ]
  },
  {
   "cell_type": "code",
   "execution_count": 35,
   "metadata": {
    "nbpresent": {
     "id": "1ebe4ede-11fa-4a9f-85d3-7281b831ad1f"
    }
   },
   "outputs": [
    {
     "name": "stdout",
     "output_type": "stream",
     "text": [
      "Decoded predictions (output format is [class_id, confidence, xmin, xmax, ymin, ymax]):\n",
      "\n",
      "[]\n"
     ]
    }
   ],
   "source": [
    "# 4: Decode the raw prediction `y_pred`\n",
    "\n",
    "y_pred_decoded = decode_y2(y_pred,\n",
    "                           confidence_thresh=0.3,\n",
    "                          iou_threshold=None,\n",
    "                          top_k='all',\n",
    "                          input_coords='centroids',\n",
    "                          normalize_coords=False,\n",
    "                          img_height=None,\n",
    "                          img_width=None)\n",
    "\n",
    "print(\"Decoded predictions (output format is [class_id, confidence, xmin, xmax, ymin, ymax]):\\n\")\n",
    "print(y_pred_decoded[i])"
   ]
  },
  {
   "cell_type": "code",
   "execution_count": 6,
   "metadata": {
    "collapsed": true,
    "nbpresent": {
     "id": "5462e75d-cfa1-426f-aa78-0050ac8dd6f3"
    }
   },
   "outputs": [],
   "source": [
    "decode_y2??"
   ]
  },
  {
   "cell_type": "markdown",
   "metadata": {
    "nbpresent": {
     "id": "5ead1a8e-4f3b-479e-9b8b-ba23605ef773"
    }
   },
   "source": [
    "Finally, let's draw the predicted boxes onto the image in blue to visualize the result. Each predicted box says its confidence next to the category name. The ground truth boxes are also drawn onto the image in green for comparison."
   ]
  },
  {
   "cell_type": "code",
   "execution_count": 25,
   "metadata": {
    "nbpresent": {
     "id": "9c12ddc4-a00b-41ff-bf77-c3fb82e7a76c"
    }
   },
   "outputs": [
    {
     "data": {
      "text/plain": [
       "[array([[   1.  ,   70.9 ,   83.1 ,   28.9 ,   41.1 ],\n",
       "        [   1.  ,   77.95,  134.05,   31.95,   88.05],\n",
       "        [   1.  ,   58.05,  159.95,  108.05,  209.95]])]"
      ]
     },
     "execution_count": 25,
     "metadata": {},
     "output_type": "execute_result"
    }
   ],
   "source": [
    "y_true"
   ]
  },
  {
   "cell_type": "code",
   "execution_count": 26,
   "metadata": {
    "nbpresent": {
     "id": "acfd8075-435a-4a17-9dd8-8e3cc4605544"
    },
    "scrolled": true
   },
   "outputs": [
    {
     "data": {
      "text/plain": [
       "array([[   1.        ,    0.33272013,   73.54512787,   89.11553192,\n",
       "         137.88822937,  147.87950134],\n",
       "       [   1.        ,    0.33193931,   87.9737854 ,  109.26948547,\n",
       "         136.97541809,  152.80717468],\n",
       "       [   1.        ,    0.32662728,   62.3210144 ,   80.40657043,\n",
       "         199.00117493,  211.44090271],\n",
       "       [   1.        ,    0.32169396,   46.82630157,   63.33255768,\n",
       "         171.10281372,  180.2588501 ],\n",
       "       [   1.        ,    0.31990781,   61.91239166,   85.89624786,\n",
       "          79.2433548 ,   92.42517853],\n",
       "       [   1.        ,    0.31778255,   38.93367004,   55.1652298 ,\n",
       "         135.50335693,  148.32440186],\n",
       "       [   1.        ,    0.31590852,   62.70537567,   86.88904572,\n",
       "          67.51211548,   83.28083801],\n",
       "       [   1.        ,    0.31538633,   71.61753082,   90.9238205 ,\n",
       "         206.73019409,  219.53860474],\n",
       "       [   1.        ,    0.31477764,   53.41026688,   71.38562775,\n",
       "         197.17619324,  207.71412659],\n",
       "       [   1.        ,    0.31384009,   87.70904541,  105.28956604,\n",
       "          95.96755981,  108.92015076],\n",
       "       [   1.        ,    0.31378442,   73.11091614,   88.14955139,\n",
       "         129.75970459,  139.10708618],\n",
       "       [   1.        ,    0.31353605,   81.25834656,   96.442276  ,\n",
       "          92.07912445,  104.02002716],\n",
       "       [   1.        ,    0.31288728,   81.44659424,   99.1007843 ,\n",
       "         214.67732239,  223.45069885],\n",
       "       [   1.        ,    0.31253153,   94.7124939 ,  117.40444946,\n",
       "         154.83740234,  167.56002808],\n",
       "       [   1.        ,    0.31152397,   33.85338974,   54.42718124,\n",
       "         146.81057739,  159.23730469],\n",
       "       [   1.        ,    0.30988237,   61.46485138,   77.49845123,\n",
       "         138.56950378,  147.07038879],\n",
       "       [   1.        ,    0.30971667,  163.06997681,  177.51425171,\n",
       "         167.9881897 ,  177.54959106],\n",
       "       [   1.        ,    0.30950028,   81.13282013,  100.70139313,\n",
       "          85.60598755,   98.8870697 ],\n",
       "       [   1.        ,    0.30910942,   75.77534485,   91.32809448,\n",
       "         144.60987854,  156.52622986],\n",
       "       [   1.        ,    0.30901968,   56.04803467,   71.57298279,\n",
       "         203.22373962,  215.99711609],\n",
       "       [   1.        ,    0.30881307,  158.21401978,  173.66143799,\n",
       "         197.34408569,  206.87692261],\n",
       "       [   1.        ,    0.30878779,  137.52735901,  162.11888123,\n",
       "         115.64751434,  127.84633636],\n",
       "       [   1.        ,    0.30873874,   62.14926529,   78.2979126 ,\n",
       "         207.08404541,  219.03924561],\n",
       "       [   1.        ,    0.30858707,   95.59200287,  119.49294281,\n",
       "         164.89230347,  176.15652466],\n",
       "       [   1.        ,    0.30778396,   60.45729446,   77.49835968,\n",
       "         148.42752075,  157.98980713],\n",
       "       [   1.        ,    0.30759472,   45.31168365,   63.69552612,\n",
       "         179.68910217,  189.57899475],\n",
       "       [   1.        ,    0.30742902,  118.38632965,  141.09030151,\n",
       "          45.43495178,   58.44058228],\n",
       "       [   1.        ,    0.30736405,   71.58236694,   91.39912415,\n",
       "          84.49243164,   98.15827942],\n",
       "       [   1.        ,    0.30658937,   88.51881409,  110.63276672,\n",
       "         146.96183777,  162.23487854],\n",
       "       [   1.        ,    0.30637771,  162.78082275,  176.48913574,\n",
       "         158.64888   ,  168.14601135],\n",
       "       [   1.        ,    0.30620903,   82.12200165,   99.7569046 ,\n",
       "         134.35978699,  148.63142395],\n",
       "       [   1.        ,    0.30589563,   31.97714233,   55.00526428,\n",
       "         152.51565552,  165.10910034],\n",
       "       [   1.        ,    0.30512705,   45.02324677,   65.03112793,\n",
       "         189.1153717 ,  199.57215881],\n",
       "       [   1.        ,    0.30490708,   73.16749573,   92.70062256,\n",
       "          77.66308594,   91.34762573],\n",
       "       [   1.        ,    0.30474871,   97.94834137,  121.01750946,\n",
       "         145.86897278,  161.49845886],\n",
       "       [   1.        ,    0.30343929,  162.95681763,  178.0484314 ,\n",
       "         178.78979492,  188.17333984],\n",
       "       [   1.        ,    0.30341211,   60.58469391,   81.48694611,\n",
       "         165.53778076,  177.8505249 ],\n",
       "       [   1.        ,    0.30259514,  142.37921143,  166.56201172,\n",
       "         129.5405426 ,  139.18067932],\n",
       "       [   1.        ,    0.30199474,   81.82962799,   98.66312408,\n",
       "         128.4150238 ,  141.32676697],\n",
       "       [   1.        ,    0.30182728,   53.18957901,   71.59590912,\n",
       "         182.70870972,  192.3765564 ],\n",
       "       [   1.        ,    0.30179498,  166.51872253,  182.69825745,\n",
       "         189.06364441,  198.90733337],\n",
       "       [   1.        ,    0.30138186,   88.49900055,  109.34024811,\n",
       "          87.21112061,  101.09158325],\n",
       "       [   1.        ,    0.30127987,  158.86297607,  177.36819458,\n",
       "         138.56596375,  148.92247009],\n",
       "       [   1.        ,    0.30121875,  113.87204742,  133.0065918 ,\n",
       "         172.49807739,  186.88269043],\n",
       "       [   1.        ,    0.30082881,   89.40666962,  108.31316376,\n",
       "         127.7148056 ,  141.86882019],\n",
       "       [   1.        ,    0.30034325,   53.11102676,   70.74107361,\n",
       "         189.86174011,  199.98216248]])"
      ]
     },
     "execution_count": 26,
     "metadata": {},
     "output_type": "execute_result"
    }
   ],
   "source": [
    "y_pred_decoded"
   ]
  },
  {
   "cell_type": "code",
   "execution_count": 202,
   "metadata": {
    "nbpresent": {
     "id": "23884757-c3cd-40c2-b251-4e3c29172f7e"
    }
   },
   "outputs": [
    {
     "data": {
      "text/plain": [
       "array([[   1.        ,    0.30245382,  113.32232666,  123.53749084,\n",
       "         181.00094604,  192.82168579],\n",
       "       [   1.        ,    0.30501792,  134.70401001,  144.32858276,\n",
       "         181.41238403,  193.28851318],\n",
       "       [   1.        ,    0.30596915,  199.09143066,  209.09237671,\n",
       "         205.9982605 ,  216.05722046],\n",
       "       [   1.        ,    0.30804673,  205.27604675,  215.53424072,\n",
       "         206.08206177,  216.90527344],\n",
       "       [   1.        ,    0.30816913,  206.57415771,  217.77745056,\n",
       "         214.61912537,  221.49198914]])"
      ]
     },
     "execution_count": 202,
     "metadata": {},
     "output_type": "execute_result"
    }
   ],
   "source": [
    "np.sort(y_pred_decoded, axis=0)[-5:]"
   ]
  },
  {
   "cell_type": "code",
   "execution_count": 58,
   "metadata": {
    "nbpresent": {
     "id": "b460417b-db9a-4298-b7d5-dd773b02cfb2"
    }
   },
   "outputs": [
    {
     "data": {
      "image/png": "[encoded data removed]",
      "text/plain": [
       "<matplotlib.figure.Figure at 0x7fefebf6f978>"
      ]
     },
     "metadata": {},
     "output_type": "display_data"
    }
   ],
   "source": [
    "# 5: Draw the predicted boxes onto the image\n",
    "\n",
    "plt.figure(figsize=(20,12))\n",
    "plt.imshow(X[0][:,:,0], cmap=plt.cm.gray)\n",
    "\n",
    "current_axis = plt.gca()\n",
    "\n",
    "classes = ['background', 'car', 'truck', 'pedestrian', 'bicyclist', 'light'] # Just so we can print class names onto the image instead of IDs\n",
    "\n",
    "# Draw the predicted boxes in blue\n",
    "#for box in np.sort(y_pred_decoded, axis=0)[-5:]:#[i]:\n",
    "for box in y_pred_decoded:#[i]\n",
    "    #label = '{}: {:.2f}'.format(classes[int(box[0])], box[1])\n",
    "    # current_axis.add_patch(plt.Rectangle((box[2], box[4]), box[3]-box[2], box[5]-box[4], color='blue', fill=False, linewidth=2))  \n",
    "    current_axis.add_patch(plt.Rectangle((box[4], box[2]), box[5]-box[4], box[3]-box[2], color='blue', fill=False, linewidth=2))  \n",
    "    #current_axis.text(box[2], box[4], label, size='x-large', color='white', bbox={'facecolor':'blue', 'alpha':1.0})\n",
    "\n",
    "# Draw the ground truth boxes in green (omit the label for more clarity)\n",
    "for box in y_true[i]:\n",
    "    label = '{}'.format(classes[int(box[0])])\n",
    "    current_axis.add_patch(plt.Rectangle((box[1], box[3]), box[2]-box[1], box[4]-box[3], color='green', fill=False, linewidth=2))  \n",
    "    #current_axis.text(box[1], box[3], label, size='x-large', color='white', bbox={'facecolor':'green', 'alpha':1.0})"
   ]
  },
  {
   "cell_type": "code",
   "execution_count": 206,
   "metadata": {
    "collapsed": true,
    "nbpresent": {
     "id": "f13772af-1e1c-4494-bb21-7a63eac653b6"
    }
   },
   "outputs": [],
   "source": []
  }
 ],
 "metadata": {
  "kernelspec": {
   "display_name": "Python [default]",
   "language": "python",
   "name": "python3"
  },
  "language_info": {
   "codemirror_mode": {
    "name": "ipython",
    "version": 3
   },
   "file_extension": ".py",
   "mimetype": "text/x-python",
   "name": "python",
   "nbconvert_exporter": "python",
   "pygments_lexer": "ipython3",
   "version": "3.6.3"
  },
  "nav_menu": {},
  "toc": {
   "navigate_menu": true,
   "number_sections": true,
   "sideBar": true,
   "threshold": 6,
   "toc_cell": false,
   "toc_section_display": "block",
   "toc_window_display": false
  }
 },
 "nbformat": 4,
 "nbformat_minor": 2
}
